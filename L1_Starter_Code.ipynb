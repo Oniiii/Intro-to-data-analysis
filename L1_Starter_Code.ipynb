{
 "cells": [
  {
   "cell_type": "markdown",
   "metadata": {},
   "source": [
    "Before we get started, a couple of reminders to keep in mind when using iPython notebooks:\n",
    "\n",
    "- Remember that you can see from the left side of a code cell when it was last run if there is a number within the brackets.\n",
    "- When you start a new notebook session, make sure you run all of the cells up to the point where you last left off. Even if the output is still visible from when you ran the cells in your previous session, the kernel starts in a fresh state so you'll need to reload the data, etc. on a new session.\n",
    "- The previous point is useful to keep in mind if your answers do not match what is expected in the lesson's quizzes. Try reloading the data and run all of the processing steps one by one in order to make sure that you are working with the same variables and data that are at each quiz stage.\n",
    "\n",
    "\n",
    "## Load Data from CSVs"
   ]
  },
  {
   "cell_type": "code",
   "execution_count": 28,
   "metadata": {
    "collapsed": true
   },
   "outputs": [],
   "source": [
    "import unicodecsv\n",
    "\n",
    "#def read_csv(file_name, variable_name):\n",
    "#    with open(file_name, 'rb') as f:\n",
    "#        reader = unicodecsv.DictReader(f)\n",
    "#        variable_name = list(reader)\n",
    "\n",
    "#read_csv('enrollments.csv','enrollments')\n",
    "\n",
    "## Longer version of code (replaced with shorter, equivalent version below)\n",
    "\n",
    "# enrollments = []\n",
    "# f = open('enrollments.csv', 'rb')\n",
    "# reader = unicodecsv.DictReader(f)\n",
    "# for row in reader:\n",
    "#     enrollments.append(row)\n",
    "# f.close()\n",
    "\n"
   ]
  },
  {
   "cell_type": "code",
   "execution_count": 29,
   "metadata": {
    "collapsed": false
   },
   "outputs": [
    {
     "name": "stdout",
     "output_type": "stream",
     "text": [
      "{u'lessons_completed': u'0.0', u'num_courses_visited': u'1.0', u'total_minutes_visited': u'11.6793745', u'projects_completed': u'0.0', u'acct': u'0', u'utc_date': u'2015-01-09'}\n",
      "{u'lesson_key': u'3176718735', u'processing_state': u'EVALUATED', u'account_key': u'256', u'assigned_rating': u'UNGRADED', u'completion_date': u'2015-01-16', u'creation_date': u'2015-01-14'}\n"
     ]
    }
   ],
   "source": [
    "import unicodecsv\n",
    "\n",
    "with open('enrollments.csv', 'rb') as f:\n",
    "    reader = unicodecsv.DictReader(f)\n",
    "    enrollments = list(reader)\n",
    "    \n",
    "with open('daily_engagement.csv', 'rb') as f:\n",
    "    reader = unicodecsv.DictReader(f)\n",
    "    daily_engagement = list(reader)\n",
    "\n",
    "with open('project_submissions.csv', 'rb') as f:\n",
    "    reader = unicodecsv.DictReader(f)\n",
    "    project_submissions = list(reader)\n",
    "\n",
    "print daily_engagement[0]\n",
    "print project_submissions[0]"
   ]
  },
  {
   "cell_type": "markdown",
   "metadata": {},
   "source": [
    "## Fixing Data Types"
   ]
  },
  {
   "cell_type": "code",
   "execution_count": 30,
   "metadata": {
    "collapsed": false
   },
   "outputs": [
    {
     "data": {
      "text/plain": [
       "{u'account_key': u'448',\n",
       " u'cancel_date': datetime.datetime(2015, 1, 14, 0, 0),\n",
       " u'days_to_cancel': 65,\n",
       " u'is_canceled': True,\n",
       " u'is_udacity': True,\n",
       " u'join_date': datetime.datetime(2014, 11, 10, 0, 0),\n",
       " u'status': u'canceled'}"
      ]
     },
     "execution_count": 30,
     "metadata": {},
     "output_type": "execute_result"
    }
   ],
   "source": [
    "from datetime import datetime as dt\n",
    "\n",
    "# Takes a date as a string, and returns a Python datetime object. \n",
    "# If there is no date given, returns None\n",
    "def parse_date(date):\n",
    "    if date == '':\n",
    "        return None\n",
    "    else:\n",
    "        return dt.strptime(date, '%Y-%m-%d')\n",
    "    \n",
    "# Takes a string which is either an empty string or represents an integer,\n",
    "# and returns an int or None.\n",
    "def parse_maybe_int(i):\n",
    "    if i == '':\n",
    "        return None\n",
    "    else:\n",
    "        return int(i)\n",
    "\n",
    "# Clean up the data types in the enrollments table\n",
    "for enrollment in enrollments:\n",
    "    enrollment['cancel_date'] = parse_date(enrollment['cancel_date'])\n",
    "    enrollment['days_to_cancel'] = parse_maybe_int(enrollment['days_to_cancel'])\n",
    "    enrollment['is_canceled'] = enrollment['is_canceled'] == 'True'\n",
    "    enrollment['is_udacity'] = enrollment['is_udacity'] == 'True'\n",
    "    enrollment['join_date'] = parse_date(enrollment['join_date'])\n",
    "    \n",
    "enrollments[0]"
   ]
  },
  {
   "cell_type": "code",
   "execution_count": 31,
   "metadata": {
    "collapsed": false
   },
   "outputs": [
    {
     "data": {
      "text/plain": [
       "{u'acct': u'0',\n",
       " u'lessons_completed': 0,\n",
       " u'num_courses_visited': 1,\n",
       " u'projects_completed': 0,\n",
       " u'total_minutes_visited': 11.6793745,\n",
       " u'utc_date': datetime.datetime(2015, 1, 9, 0, 0)}"
      ]
     },
     "execution_count": 31,
     "metadata": {},
     "output_type": "execute_result"
    }
   ],
   "source": [
    "# Clean up the data types in the engagement table\n",
    "for engagement_record in daily_engagement:\n",
    "    engagement_record['lessons_completed'] = int(float(engagement_record['lessons_completed']))\n",
    "    engagement_record['num_courses_visited'] = int(float(engagement_record['num_courses_visited']))\n",
    "    engagement_record['projects_completed'] = int(float(engagement_record['projects_completed']))\n",
    "    engagement_record['total_minutes_visited'] = float(engagement_record['total_minutes_visited'])\n",
    "    engagement_record['utc_date'] = parse_date(engagement_record['utc_date'])\n",
    "    \n",
    "daily_engagement[0]"
   ]
  },
  {
   "cell_type": "code",
   "execution_count": 32,
   "metadata": {
    "collapsed": false
   },
   "outputs": [
    {
     "data": {
      "text/plain": [
       "{u'account_key': u'256',\n",
       " u'assigned_rating': u'UNGRADED',\n",
       " u'completion_date': datetime.datetime(2015, 1, 16, 0, 0),\n",
       " u'creation_date': datetime.datetime(2015, 1, 14, 0, 0),\n",
       " u'lesson_key': u'3176718735',\n",
       " u'processing_state': u'EVALUATED'}"
      ]
     },
     "execution_count": 32,
     "metadata": {},
     "output_type": "execute_result"
    }
   ],
   "source": [
    "# Clean up the data types in the submissions table\n",
    "for submission in project_submissions:\n",
    "    submission['completion_date'] = parse_date(submission['completion_date'])\n",
    "    submission['creation_date'] = parse_date(submission['creation_date'])\n",
    "\n",
    "project_submissions[0]"
   ]
  },
  {
   "cell_type": "code",
   "execution_count": 46,
   "metadata": {
    "collapsed": false
   },
   "outputs": [
    {
     "name": "stdout",
     "output_type": "stream",
     "text": [
      "1640\n",
      "1302\n",
      "3642\n",
      "743\n",
      "136240\n",
      "1237\n",
      "[u'0', u'1', u'2', u'3', u'4', u'5', u'6', u'7', u'8', u'9', u'10', u'11', u'12', u'13', u'14', u'15', u'16', u'17', u'18', u'19', u'20', u'21', u'22', u'23', u'24', u'25', u'26', u'27', u'28', u'29', u'30', u'31', u'32', u'33', u'34', u'35', u'36', u'37', u'38', u'39', u'40', u'41', u'42', u'43', u'44', u'45', u'46', u'47', u'48', u'49', u'50', u'51', u'52', u'53', u'54', u'55', u'56', u'57', u'58', u'59', u'60', u'61', u'62', u'63', u'64', u'65', u'66', u'67', u'68', u'69', u'70', u'71', u'72', u'73', u'74', u'75', u'76', u'77', u'78', u'79', u'80', u'81', u'82', u'83', u'84', u'85', u'86', u'87', u'88', u'89', u'90', u'91', u'92', u'93', u'94', u'96', u'97', u'98', u'99', u'100', u'101', u'102', u'103', u'104', u'105', u'106', u'107', u'108', u'109', u'110', u'111', u'112', u'113', u'114', u'115', u'116', u'117', u'118', u'119', u'120', u'121', u'122', u'123', u'124', u'125', u'126', u'127', u'128', u'129', u'130', u'131', u'132', u'133', u'134', u'135', u'136', u'137', u'138', u'139', u'140', u'141', u'142', u'143', u'144', u'145', u'146', u'147', u'148', u'149', u'150', u'151', u'152', u'153', u'154', u'155', u'156', u'157', u'158', u'159', u'160', u'161', u'162', u'163', u'164', u'165', u'166', u'167', u'168', u'169', u'170', u'171', u'172', u'173', u'174', u'175', u'176', u'177', u'178', u'179', u'180', u'181', u'182', u'183', u'184', u'185', u'186', u'187', u'188', u'189', u'190', u'191', u'192', u'193', u'194', u'195', u'196', u'197', u'198', u'199', u'200', u'201', u'202', u'203', u'204', u'205', u'206', u'207', u'208', u'209', u'210', u'211', u'212', u'213', u'214', u'215', u'216', u'217', u'218', u'219', u'220', u'221', u'222', u'223', u'224', u'225', u'226', u'227', u'228', u'229', u'230', u'231', u'232', u'233', u'234', u'235', u'236', u'237', u'238', u'239', u'240', u'241', u'242', u'243', u'244', u'245', u'246', u'248', u'249', u'250', u'251', u'252', u'253', u'254', u'255', u'256', u'257', u'258', u'259', u'260', u'261', u'262', u'263', u'264', u'265', u'266', u'267', u'268', u'269', u'270', u'271', u'272', u'273', u'274', u'275', u'276', u'277', u'278', u'279', u'280', u'281', u'282', u'283', u'284', u'285', u'286', u'287', u'288', u'289', u'290', u'291', u'292', u'293', u'294', u'295', u'296', u'297', u'298', u'299', u'300', u'301', u'302', u'303', u'304', u'305', u'306', u'307', u'308', u'309', u'310', u'311', u'312', u'313', u'314', u'315', u'316', u'317', u'318', u'319', u'320', u'321', u'322', u'323', u'324', u'325', u'326', u'327', u'328', u'329', u'330', u'331', u'332', u'333', u'334', u'335', u'336', u'337', u'338', u'339', u'340', u'341', u'342', u'343', u'344', u'345', u'346', u'347', u'348', u'349', u'350', u'351', u'352', u'353', u'354', u'355', u'356', u'357', u'358', u'359', u'360', u'361', u'362', u'363', u'364', u'365', u'366', u'367', u'368', u'369', u'370', u'371', u'372', u'373', u'374', u'375', u'376', u'377', u'378', u'379', u'380', u'381', u'382', u'383', u'384', u'385', u'386', u'387', u'388', u'389', u'390', u'391', u'392', u'393', u'394', u'395', u'396', u'397', u'398', u'399', u'400', u'401', u'402', u'403', u'404', u'405', u'406', u'407', u'408', u'409', u'410', u'411', u'412', u'413', u'414', u'415', u'416', u'417', u'418', u'419', u'420', u'421', u'422', u'423', u'424', u'425', u'426', u'427', u'428', u'429', u'430', u'431', u'432', u'433', u'434', u'435', u'436', u'437', u'438', u'439', u'440', u'441', u'442', u'443', u'444', u'445', u'446', u'447', u'448', u'449', u'450', u'451', u'452', u'453', u'454', u'455', u'456', u'457', u'458', u'459', u'460', u'461', u'462', u'463', u'464', u'465', u'466', u'467', u'468', u'469', u'471', u'472', u'473', u'474', u'475', u'476', u'477', u'478', u'479', u'480', u'481', u'482', u'483', u'484', u'485', u'486', u'487', u'488', u'489', u'490', u'491', u'492', u'493', u'494', u'495', u'496', u'497', u'498', u'499', u'500', u'501', u'502', u'503', u'504', u'505', u'506', u'507', u'508', u'509', u'510', u'511', u'512', u'513', u'514', u'515', u'516', u'517', u'518', u'519', u'520', u'521', u'522', u'523', u'524', u'525', u'526', u'527', u'528', u'529', u'530', u'531', u'532', u'533', u'534', u'535', u'536', u'537', u'538', u'539', u'540', u'541', u'542', u'543', u'544', u'545', u'546', u'547', u'548', u'549', u'550', u'551', u'552', u'553', u'554', u'555', u'556', u'557', u'558', u'559', u'560', u'561', u'562', u'563', u'564', u'565', u'566', u'567', u'568', u'569', u'570', u'571', u'572', u'573', u'574', u'575', u'576', u'577', u'578', u'579', u'580', u'581', u'582', u'583', u'584', u'585', u'586', u'587', u'588', u'589', u'590', u'591', u'592', u'593', u'594', u'595', u'596', u'597', u'598', u'599', u'600', u'601', u'602', u'603', u'604', u'605', u'606', u'607', u'608', u'609', u'610', u'611', u'612', u'613', u'614', u'615', u'616', u'617', u'618', u'619', u'620', u'621', u'622', u'623', u'624', u'625', u'626', u'627', u'628', u'629', u'630', u'631', u'632', u'633', u'634', u'635', u'636', u'637', u'639', u'640', u'641', u'642', u'643', u'644', u'645', u'646', u'647', u'648', u'649', u'650', u'651', u'652', u'653', u'655', u'656', u'657', u'658', u'659', u'660', u'661', u'662', u'663', u'665', u'666', u'667', u'668', u'669', u'670', u'671', u'672', u'673', u'674', u'675', u'676', u'677', u'678', u'679', u'680', u'681', u'682', u'683', u'684', u'685', u'686', u'687', u'688', u'689', u'690', u'691', u'692', u'693', u'694', u'695', u'696', u'697', u'698', u'699', u'700', u'701', u'702', u'703', u'704', u'705', u'706', u'708', u'709', u'710', u'712', u'713', u'714', u'715', u'716', u'718', u'719', u'720', u'721', u'722', u'723', u'724', u'726', u'729', u'730', u'731', u'732', u'734', u'735', u'736', u'738', u'740', u'741', u'742', u'743', u'744', u'745', u'746', u'747', u'748', u'751', u'752', u'753', u'754', u'755', u'756', u'757', u'758', u'759', u'760', u'761', u'762', u'763', u'764', u'765', u'767', u'768', u'769', u'770', u'771', u'772', u'773', u'774', u'775', u'776', u'777', u'778', u'779', u'780', u'781', u'782', u'783', u'784', u'785', u'786', u'787', u'788', u'790', u'791', u'792', u'793', u'794', u'795', u'796', u'797', u'798', u'800', u'801', u'804', u'805', u'806', u'807', u'808', u'809', u'810', u'811', u'812', u'813', u'814', u'815', u'816', u'818', u'820', u'821', u'822', u'823', u'824', u'825', u'826', u'827', u'828', u'829', u'830', u'831', u'832', u'833', u'834', u'835', u'836', u'837', u'838', u'839', u'840', u'842', u'843', u'844', u'845', u'846', u'847', u'848', u'849', u'850', u'851', u'852', u'853', u'854', u'855', u'856', u'857', u'858', u'859', u'860', u'861', u'862', u'863', u'864', u'865', u'866', u'867', u'868', u'869', u'872', u'873', u'874', u'876', u'877', u'879', u'880', u'881', u'882', u'883', u'885', u'886', u'887', u'888', u'890', u'891', u'892', u'893', u'894', u'895', u'896', u'897', u'898', u'899', u'900', u'901', u'903', u'904', u'905', u'906', u'907', u'908', u'909', u'910', u'911', u'912', u'913', u'915', u'916', u'917', u'918', u'919', u'920', u'921', u'922', u'923', u'924', u'925', u'927', u'928', u'929', u'930', u'931', u'932', u'933', u'934', u'935', u'936', u'937', u'938', u'939', u'940', u'941', u'942', u'943', u'944', u'945', u'946', u'947', u'948', u'949', u'950', u'951', u'952', u'953', u'954', u'955', u'956', u'957', u'958', u'959', u'960', u'961', u'962', u'963', u'965', u'966', u'967', u'969', u'970', u'971', u'972', u'973', u'974', u'975', u'976', u'977', u'978', u'979', u'980', u'982', u'983', u'984', u'985', u'986', u'987', u'988', u'989', u'990', u'991', u'992', u'993', u'994', u'995', u'998', u'999', u'1000', u'1001', u'1002', u'1003', u'1004', u'1005', u'1006', u'1007', u'1008', u'1009', u'1011', u'1012', u'1013', u'1014', u'1015', u'1016', u'1017', u'1018', u'1019', u'1020', u'1021', u'1022', u'1023', u'1024', u'1026', u'1027', u'1028', u'1029', u'1030', u'1031', u'1032', u'1033', u'1034', u'1035', u'1036', u'1037', u'1038', u'1039', u'1040', u'1041', u'1042', u'1043', u'1045', u'1046', u'1047', u'1048', u'1049', u'1050', u'1051', u'1052', u'1053', u'1054', u'1055', u'1056', u'1057', u'1058', u'1059', u'1060', u'1061', u'1062', u'1064', u'1065', u'1066', u'1067', u'1068', u'1070', u'1071', u'1072', u'1073', u'1074', u'1075', u'1076', u'1077', u'1078', u'1080', u'1081', u'1082', u'1083', u'1084', u'1085', u'1087', u'1088', u'1089', u'1090', u'1091', u'1092', u'1093', u'1094', u'1095', u'1096', u'1097', u'1098', u'1099', u'1100', u'1102', u'1103', u'1104', u'1105', u'1106', u'1107', u'1108', u'1109', u'1110', u'1111', u'1112', u'1113', u'1114', u'1115', u'1116', u'1117', u'1118', u'1119', u'1121', u'1122', u'1123', u'1124', u'1126', u'1127', u'1128', u'1130', u'1131', u'1132', u'1133', u'1134', u'1135', u'1136', u'1137', u'1138', u'1139', u'1140', u'1141', u'1142', u'1143', u'1144', u'1146', u'1147', u'1149', u'1150', u'1151', u'1152', u'1153', u'1154', u'1156', u'1157', u'1158', u'1159', u'1160', u'1161', u'1162', u'1163', u'1164', u'1165', u'1166', u'1167', u'1168', u'1169', u'1170', u'1172', u'1173', u'1174', u'1175', u'1176', u'1177', u'1178', u'1179', u'1180', u'1181', u'1182', u'1183', u'1184', u'1185', u'1187', u'1188', u'1189', u'1192', u'1193', u'1194', u'1195', u'1196', u'1197', u'1198', u'1199', u'1200', u'1201', u'1202', u'1203', u'1204', u'1205', u'1206', u'1207', u'1208', u'1209', u'1210', u'1211', u'1212', u'1214', u'1215', u'1216', u'1217', u'1220', u'1221', u'1223', u'1224', u'1225', u'1226', u'1227', u'1228', u'1229', u'1230', u'1231', u'1232', u'1233', u'1234', u'1235', u'1236', u'1239', u'1240', u'1242', u'1243', u'1244', u'1245', u'1246', u'1247', u'1248', u'1249', u'1250', u'1251', u'1252', u'1253', u'1254', u'1255', u'1256', u'1257', u'1258', u'1259', u'1260', u'1261', u'1262', u'1263', u'1264', u'1265', u'1266', u'1267', u'1268', u'1269', u'1271', u'1272', u'1274', u'1275', u'1276', u'1277', u'1278', u'1279', u'1280', u'1281', u'1282', u'1283', u'1285', u'1286', u'1287', u'1288', u'1289', u'1290', u'1292', u'1293', u'1294', u'1295', u'1296', u'1297', u'1298', u'1299', u'1300', u'1301', u'1302', u'1303', u'1305']\n"
     ]
    }
   ],
   "source": [
    "print len(enrollments)\n",
    "student_list=[]\n",
    "for i in enrollments:\n",
    "    if i['account_key'] not in student_list:\n",
    "        student_list.append(i['account_key'])\n",
    "print len(student_list) \n",
    "print len(project_submissions)\n",
    "b_student_list = []\n",
    "for i in project_submissions:\n",
    "    if i['account_key'] not in b_student_list:\n",
    "        b_student_list.append(i['account_key'])\n",
    "print len(b_student_list)\n",
    "print len(daily_engagement)\n",
    "a_student_list=[]\n",
    "for i in daily_engagement:\n",
    "    if i['acct'] not in a_student_list:\n",
    "        a_student_list.append(i['acct'])\n",
    "print len(a_student_list)\n",
    "\n"
   ]
  },
  {
   "cell_type": "markdown",
   "metadata": {},
   "source": [
    "Note when running the above cells that we are actively changing the contents of our data variables. If you try to run these cells multiple times in the same session, an error will occur.\n",
    "\n",
    "## Investigating the Data"
   ]
  },
  {
   "cell_type": "code",
   "execution_count": 33,
   "metadata": {
    "collapsed": false
   },
   "outputs": [],
   "source": [
    "#####################################\n",
    "#                 2                 #\n",
    "#####################################\n",
    "\n",
    "## Find the total number of rows and the number of unique students (account keys)\n",
    "## in each \n"
   ]
  },
  {
   "cell_type": "markdown",
   "metadata": {},
   "source": [
    "## Problems in the Data"
   ]
  },
  {
   "cell_type": "code",
   "execution_count": 34,
   "metadata": {
    "collapsed": true
   },
   "outputs": [],
   "source": [
    "#####################################\n",
    "#                 3                 #\n",
    "#####################################\n",
    "\n",
    "## Rename the \"acct\" column in the daily_engagement table to \"account_key\"."
   ]
  },
  {
   "cell_type": "markdown",
   "metadata": {},
   "source": [
    "## Missing Engagement Records"
   ]
  },
  {
   "cell_type": "code",
   "execution_count": 35,
   "metadata": {
    "collapsed": true
   },
   "outputs": [],
   "source": [
    "#####################################\n",
    "#                 4                 #\n",
    "#####################################\n",
    "\n",
    "## Find any one student enrollments where the student is missing from the daily engagement table.\n",
    "## Output that enrollment."
   ]
  },
  {
   "cell_type": "markdown",
   "metadata": {},
   "source": [
    "## Checking for More Problem Records"
   ]
  },
  {
   "cell_type": "code",
   "execution_count": 36,
   "metadata": {
    "collapsed": true
   },
   "outputs": [],
   "source": [
    "#####################################\n",
    "#                 5                 #\n",
    "#####################################\n",
    "\n",
    "## Find the number of surprising data points (enrollments missing from\n",
    "## the engagement table) that remain, if any."
   ]
  },
  {
   "cell_type": "markdown",
   "metadata": {},
   "source": [
    "## Tracking Down the Remaining Problems"
   ]
  },
  {
   "cell_type": "code",
   "execution_count": 37,
   "metadata": {
    "collapsed": false
   },
   "outputs": [
    {
     "data": {
      "text/plain": [
       "6"
      ]
     },
     "execution_count": 37,
     "metadata": {},
     "output_type": "execute_result"
    }
   ],
   "source": [
    "# Create a set of the account keys for all Udacity test accounts\n",
    "udacity_test_accounts = set()\n",
    "for enrollment in enrollments:\n",
    "    if enrollment['is_udacity']:\n",
    "        udacity_test_accounts.add(enrollment['account_key'])\n",
    "len(udacity_test_accounts)"
   ]
  },
  {
   "cell_type": "code",
   "execution_count": 38,
   "metadata": {
    "collapsed": true
   },
   "outputs": [],
   "source": [
    "# Given some data with an account_key field, removes any records corresponding to Udacity test accounts\n",
    "def remove_udacity_accounts(data):\n",
    "    non_udacity_data = []\n",
    "    for data_point in data:\n",
    "        if data_point['account_key'] not in udacity_test_accounts:\n",
    "            non_udacity_data.append(data_point)\n",
    "    return non_udacity_data"
   ]
  },
  {
   "cell_type": "code",
   "execution_count": 39,
   "metadata": {
    "collapsed": false
   },
   "outputs": [
    {
     "ename": "KeyError",
     "evalue": "'account_key'",
     "output_type": "error",
     "traceback": [
      "\u001b[0;31m---------------------------------------------------------------------------\u001b[0m",
      "\u001b[0;31mKeyError\u001b[0m                                  Traceback (most recent call last)",
      "\u001b[0;32m<ipython-input-39-40102216c630>\u001b[0m in \u001b[0;36m<module>\u001b[0;34m()\u001b[0m\n\u001b[1;32m      1\u001b[0m \u001b[1;31m# Remove Udacity test accounts from all three tables\u001b[0m\u001b[1;33m\u001b[0m\u001b[1;33m\u001b[0m\u001b[0m\n\u001b[1;32m      2\u001b[0m \u001b[0mnon_udacity_enrollments\u001b[0m \u001b[1;33m=\u001b[0m \u001b[0mremove_udacity_accounts\u001b[0m\u001b[1;33m(\u001b[0m\u001b[0menrollments\u001b[0m\u001b[1;33m)\u001b[0m\u001b[1;33m\u001b[0m\u001b[0m\n\u001b[0;32m----> 3\u001b[0;31m \u001b[0mnon_udacity_engagement\u001b[0m \u001b[1;33m=\u001b[0m \u001b[0mremove_udacity_accounts\u001b[0m\u001b[1;33m(\u001b[0m\u001b[0mdaily_engagement\u001b[0m\u001b[1;33m)\u001b[0m\u001b[1;33m\u001b[0m\u001b[0m\n\u001b[0m\u001b[1;32m      4\u001b[0m \u001b[0mnon_udacity_submissions\u001b[0m \u001b[1;33m=\u001b[0m \u001b[0mremove_udacity_accounts\u001b[0m\u001b[1;33m(\u001b[0m\u001b[0mproject_submissions\u001b[0m\u001b[1;33m)\u001b[0m\u001b[1;33m\u001b[0m\u001b[0m\n\u001b[1;32m      5\u001b[0m \u001b[1;33m\u001b[0m\u001b[0m\n",
      "\u001b[0;32m<ipython-input-38-58a7775e7c22>\u001b[0m in \u001b[0;36mremove_udacity_accounts\u001b[0;34m(data)\u001b[0m\n\u001b[1;32m      3\u001b[0m     \u001b[0mnon_udacity_data\u001b[0m \u001b[1;33m=\u001b[0m \u001b[1;33m[\u001b[0m\u001b[1;33m]\u001b[0m\u001b[1;33m\u001b[0m\u001b[0m\n\u001b[1;32m      4\u001b[0m     \u001b[1;32mfor\u001b[0m \u001b[0mdata_point\u001b[0m \u001b[1;32min\u001b[0m \u001b[0mdata\u001b[0m\u001b[1;33m:\u001b[0m\u001b[1;33m\u001b[0m\u001b[0m\n\u001b[0;32m----> 5\u001b[0;31m         \u001b[1;32mif\u001b[0m \u001b[0mdata_point\u001b[0m\u001b[1;33m[\u001b[0m\u001b[1;34m'account_key'\u001b[0m\u001b[1;33m]\u001b[0m \u001b[1;32mnot\u001b[0m \u001b[1;32min\u001b[0m \u001b[0mudacity_test_accounts\u001b[0m\u001b[1;33m:\u001b[0m\u001b[1;33m\u001b[0m\u001b[0m\n\u001b[0m\u001b[1;32m      6\u001b[0m             \u001b[0mnon_udacity_data\u001b[0m\u001b[1;33m.\u001b[0m\u001b[0mappend\u001b[0m\u001b[1;33m(\u001b[0m\u001b[0mdata_point\u001b[0m\u001b[1;33m)\u001b[0m\u001b[1;33m\u001b[0m\u001b[0m\n\u001b[1;32m      7\u001b[0m     \u001b[1;32mreturn\u001b[0m \u001b[0mnon_udacity_data\u001b[0m\u001b[1;33m\u001b[0m\u001b[0m\n",
      "\u001b[0;31mKeyError\u001b[0m: 'account_key'"
     ]
    }
   ],
   "source": [
    "# Remove Udacity test accounts from all three tables\n",
    "non_udacity_enrollments = remove_udacity_accounts(enrollments)\n",
    "non_udacity_engagement = remove_udacity_accounts(daily_engagement)\n",
    "non_udacity_submissions = remove_udacity_accounts(project_submissions)\n",
    "\n",
    "print len(non_udacity_enrollments)\n",
    "print len(non_udacity_engagement)\n",
    "print len(non_udacity_submissions)"
   ]
  },
  {
   "cell_type": "markdown",
   "metadata": {},
   "source": [
    "## Refining the Question"
   ]
  },
  {
   "cell_type": "code",
   "execution_count": null,
   "metadata": {
    "collapsed": true
   },
   "outputs": [],
   "source": [
    "#####################################\n",
    "#                 6                 #\n",
    "#####################################\n",
    "\n",
    "## Create a dictionary named paid_students containing all students who either\n",
    "## haven't canceled yet or who remained enrolled for more than 7 days. The keys\n",
    "## should be account keys, and the values should be the date the student enrolled.\n",
    "\n",
    "paid_students ="
   ]
  },
  {
   "cell_type": "markdown",
   "metadata": {},
   "source": [
    "## Getting Data from First Week"
   ]
  },
  {
   "cell_type": "code",
   "execution_count": null,
   "metadata": {
    "collapsed": true
   },
   "outputs": [],
   "source": [
    "# Takes a student's join date and the date of a specific engagement record,\n",
    "# and returns True if that engagement record happened within one week\n",
    "# of the student joining.\n",
    "def within_one_week(join_date, engagement_date):\n",
    "    time_delta = engagement_date - join_date\n",
    "    return time_delta.days < 7"
   ]
  },
  {
   "cell_type": "code",
   "execution_count": null,
   "metadata": {
    "collapsed": true
   },
   "outputs": [],
   "source": [
    "#####################################\n",
    "#                 7                 #\n",
    "#####################################\n",
    "\n",
    "## Create a list of rows from the engagement table including only rows where\n",
    "## the student is one of the paid students you just found, and the date is within\n",
    "## one week of the student's join date.\n",
    "\n",
    "paid_engagement_in_first_week = "
   ]
  },
  {
   "cell_type": "markdown",
   "metadata": {},
   "source": [
    "## Exploring Student Engagement"
   ]
  },
  {
   "cell_type": "code",
   "execution_count": null,
   "metadata": {
    "collapsed": true
   },
   "outputs": [],
   "source": [
    "from collections import defaultdict\n",
    "\n",
    "# Create a dictionary of engagement grouped by student.\n",
    "# The keys are account keys, and the values are lists of engagement records.\n",
    "engagement_by_account = defaultdict(list)\n",
    "for engagement_record in paid_engagement_in_first_week:\n",
    "    account_key = engagement_record['account_key']\n",
    "    engagement_by_account[account_key].append(engagement_record)"
   ]
  },
  {
   "cell_type": "code",
   "execution_count": null,
   "metadata": {
    "collapsed": true
   },
   "outputs": [],
   "source": [
    "# Create a dictionary with the total minutes each student spent in the classroom during the first week.\n",
    "# The keys are account keys, and the values are numbers (total minutes)\n",
    "total_minutes_by_account = {}\n",
    "for account_key, engagement_for_student in engagement_by_account.items():\n",
    "    total_minutes = 0\n",
    "    for engagement_record in engagement_for_student:\n",
    "        total_minutes += engagement_record['total_minutes_visited']\n",
    "    total_minutes_by_account[account_key] = total_minutes"
   ]
  },
  {
   "cell_type": "code",
   "execution_count": null,
   "metadata": {
    "collapsed": true
   },
   "outputs": [],
   "source": [
    "import numpy as np\n",
    "\n",
    "# Summarize the data about minutes spent in the classroom\n",
    "total_minutes = total_minutes_by_account.values()\n",
    "print 'Mean:', np.mean(total_minutes)\n",
    "print 'Standard deviation:', np.std(total_minutes)\n",
    "print 'Minimum:', np.min(total_minutes)\n",
    "print 'Maximum:', np.max(total_minutes)"
   ]
  },
  {
   "cell_type": "markdown",
   "metadata": {},
   "source": [
    "## Debugging Data Analysis Code"
   ]
  },
  {
   "cell_type": "code",
   "execution_count": null,
   "metadata": {
    "collapsed": true
   },
   "outputs": [],
   "source": [
    "#####################################\n",
    "#                 8                 #\n",
    "#####################################\n",
    "\n",
    "## Go through a similar process as before to see if there is a problem.\n",
    "## Locate at least one surprising piece of data, output it, and take a look at it."
   ]
  },
  {
   "cell_type": "markdown",
   "metadata": {},
   "source": [
    "## Lessons Completed in First Week"
   ]
  },
  {
   "cell_type": "code",
   "execution_count": null,
   "metadata": {
    "collapsed": true
   },
   "outputs": [],
   "source": [
    "#####################################\n",
    "#                 9                 #\n",
    "#####################################\n",
    "\n",
    "## Adapt the code above to find the mean, standard deviation, minimum, and maximum for\n",
    "## the number of lessons completed by each student during the first week. Try creating\n",
    "## one or more functions to re-use the code above."
   ]
  },
  {
   "cell_type": "markdown",
   "metadata": {},
   "source": [
    "## Number of Visits in First Week"
   ]
  },
  {
   "cell_type": "code",
   "execution_count": null,
   "metadata": {
    "collapsed": true
   },
   "outputs": [],
   "source": [
    "######################################\n",
    "#                 10                 #\n",
    "######################################\n",
    "\n",
    "## Find the mean, standard deviation, minimum, and maximum for the number of\n",
    "## days each student visits the classroom during the first week."
   ]
  },
  {
   "cell_type": "markdown",
   "metadata": {},
   "source": [
    "## Splitting out Passing Students"
   ]
  },
  {
   "cell_type": "code",
   "execution_count": null,
   "metadata": {
    "collapsed": true
   },
   "outputs": [],
   "source": [
    "######################################\n",
    "#                 11                 #\n",
    "######################################\n",
    "\n",
    "## Create two lists of engagement data for paid students in the first week.\n",
    "## The first list should contain data for students who eventually pass the\n",
    "## subway project, and the second list should contain data for students\n",
    "## who do not.\n",
    "\n",
    "subway_project_lesson_keys = ['746169184', '3176718735']\n",
    "\n",
    "passing_engagement =\n",
    "non_passing_engagement ="
   ]
  },
  {
   "cell_type": "markdown",
   "metadata": {},
   "source": [
    "## Comparing the Two Student Groups"
   ]
  },
  {
   "cell_type": "code",
   "execution_count": null,
   "metadata": {
    "collapsed": true
   },
   "outputs": [],
   "source": [
    "######################################\n",
    "#                 12                 #\n",
    "######################################\n",
    "\n",
    "## Compute some metrics you're interested in and see how they differ for\n",
    "## students who pass the subway project vs. students who don't. A good\n",
    "## starting point would be the metrics we looked at earlier (minutes spent\n",
    "## in the classroom, lessons completed, and days visited)."
   ]
  },
  {
   "cell_type": "markdown",
   "metadata": {},
   "source": [
    "## Making Histograms"
   ]
  },
  {
   "cell_type": "code",
   "execution_count": null,
   "metadata": {
    "collapsed": true
   },
   "outputs": [],
   "source": [
    "######################################\n",
    "#                 13                 #\n",
    "######################################\n",
    "\n",
    "## Make histograms of the three metrics we looked at earlier for both\n",
    "## students who passed the subway project and students who didn't. You\n",
    "## might also want to make histograms of any other metrics you examined."
   ]
  },
  {
   "cell_type": "markdown",
   "metadata": {},
   "source": [
    "## Improving Plots and Sharing Findings"
   ]
  },
  {
   "cell_type": "code",
   "execution_count": null,
   "metadata": {
    "collapsed": true
   },
   "outputs": [],
   "source": [
    "######################################\n",
    "#                 14                 #\n",
    "######################################\n",
    "\n",
    "## Make a more polished version of at least one of your visualizations\n",
    "## from earlier. Try importing the seaborn library to make the visualization\n",
    "## look better, adding axis labels and a title, and changing one or more\n",
    "## arguments to the hist() function."
   ]
  }
 ],
 "metadata": {
  "kernelspec": {
   "display_name": "Python 2",
   "language": "python",
   "name": "python2"
  },
  "language_info": {
   "codemirror_mode": {
    "name": "ipython",
    "version": 2
   },
   "file_extension": ".py",
   "mimetype": "text/x-python",
   "name": "python",
   "nbconvert_exporter": "python",
   "pygments_lexer": "ipython2",
   "version": "2.7.13"
  }
 },
 "nbformat": 4,
 "nbformat_minor": 0
}
